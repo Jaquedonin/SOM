{
 "cells": [
  {
   "cell_type": "code",
   "execution_count": 2,
   "metadata": {},
   "outputs": [
    {
     "data": {
      "image/png": "[encoded data removed]",
      "text/plain": [
       "<Figure size 640x480 with 2 Axes>"
      ]
     },
     "metadata": {},
     "output_type": "display_data"
    }
   ],
   "source": [
    "import numpy as np\n",
    "import matplotlib.pyplot as plt\n",
    "\n",
    "# Função para inicializar os pesos do SOM\n",
    "def inicializar_pesos(dim_entrada, dim_saida):\n",
    "    pesos = np.random.random((dim_entrada, dim_saida))\n",
    "    return pesos\n",
    "\n",
    "# Função para encontrar o neurônio vencedor (BMU)\n",
    "def encontrar_bmu(entrada, pesos):\n",
    "    distancias = np.linalg.norm(entrada - pesos, axis=1)\n",
    "    indice_bmu = np.argmin(distancias)\n",
    "    return indice_bmu\n",
    "\n",
    "# Função para atualizar os pesos dos neurônios vizinhos ao BMU\n",
    "def atualizar_pesos(entrada, pesos, bmu, taxa_aprendizado, raio):\n",
    "    dim_entrada, dim_saida = pesos.shape\n",
    "    for i in range(dim_saida):\n",
    "        distancia_bmu = np.abs(i - bmu)\n",
    "        if distancia_bmu <= raio:\n",
    "            fator_aprendizado = taxa_aprendizado * (1 - distancia_bmu/raio)\n",
    "            pesos[:, i] += fator_aprendizado * (entrada - pesos[:, i])\n",
    "\n",
    "# Função para treinar o SOM\n",
    "def treinar_som(dados, dim_saida, num_epocas, taxa_aprendizado, raio):\n",
    "    dim_entrada = dados.shape[1]\n",
    "    pesos = inicializar_pesos(dim_entrada, dim_saida)\n",
    "\n",
    "    for epoca in range(num_epocas):\n",
    "        for entrada in dados:\n",
    "            bmu = encontrar_bmu(entrada, pesos)\n",
    "            atualizar_pesos(entrada, pesos, bmu, taxa_aprendizado, raio)\n",
    "\n",
    "    return pesos\n",
    "\n",
    "# Função para visualizar os resultados do SOM\n",
    "def visualizar_som(dados, pesos, dim_saida):\n",
    "    dim_entrada = dados.shape[1]\n",
    "    mapa = np.zeros((dim_saida, dim_saida))\n",
    "\n",
    "    for entrada in dados:\n",
    "        bmu = encontrar_bmu(entrada, pesos)\n",
    "        mapa[bmu // dim_saida, bmu % dim_saida] += 1\n",
    "\n",
    "    plt.imshow(mapa)\n",
    "    plt.colorbar()\n",
    "    plt.show()\n",
    "\n",
    "# Carregando os dados\n",
    "dados = np.loadtxt('new_diabetes.csv', delimiter=',')  # Substitua 'diabetes.csv' pelo nome do seu arquivo de dados\n",
    "\n",
    "# Normalizando os dados\n",
    "dados = (dados - np.min(dados, axis=0)) / (np.max(dados, axis=0) - np.min(dados, axis=0))\n",
    "\n",
    "# Definindo os hiperparâmetros do SOM\n",
    "dim_saida = 10\n",
    "num_epocas = 10\n",
    "taxa_aprendizado = 0.1\n",
    "raio = 2\n",
    "\n",
    "# Treinando o SOM\n",
    "pesos = treinar_som(dados, dim_saida, num_epocas, taxa_aprendizado, raio)\n",
    "\n",
    "# Visualizando os resultados\n",
    "visualizar_som(dados, pesos, dim_saida)\n"
   ]
  },
  {
   "cell_type": "code",
   "execution_count": null,
   "metadata": {},
   "outputs": [],
   "source": []
  }
 ],
 "metadata": {
  "kernelspec": {
   "display_name": "Python 3 (ipykernel)",
   "language": "python",
   "name": "python3"
  },
  "language_info": {
   "codemirror_mode": {
    "name": "ipython",
    "version": 3
   },
   "file_extension": ".py",
   "mimetype": "text/x-python",
   "name": "python",
   "nbconvert_exporter": "python",
   "pygments_lexer": "ipython3",
   "version": "3.7.3"
  }
 },
 "nbformat": 4,
 "nbformat_minor": 2
}
